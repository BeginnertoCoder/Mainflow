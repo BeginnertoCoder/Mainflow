{
 "cells": [
  {
   "cell_type": "markdown",
   "id": "c5519ffc",
   "metadata": {},
   "source": [
    "## creating a list"
   ]
  },
  {
   "cell_type": "code",
   "execution_count": 1,
   "id": "4a1b56e9",
   "metadata": {},
   "outputs": [
    {
     "name": "stdout",
     "output_type": "stream",
     "text": [
      "[1, 2, 3, 4, 5]\n"
     ]
    }
   ],
   "source": [
    "list1 = [1,2,3,4,5]\n",
    "print(list1)"
   ]
  },
  {
   "cell_type": "markdown",
   "id": "1158cbff",
   "metadata": {},
   "source": [
    "## Adding elements to the lists"
   ]
  },
  {
   "cell_type": "code",
   "execution_count": 2,
   "id": "047a0f9a",
   "metadata": {},
   "outputs": [
    {
     "name": "stdout",
     "output_type": "stream",
     "text": [
      "[1, 2, 3, 4, 5, 6]\n"
     ]
    }
   ],
   "source": [
    "list1.append(6)\n",
    "print(list1)"
   ]
  },
  {
   "cell_type": "markdown",
   "id": "f40257a6",
   "metadata": {},
   "source": [
    "## removing elements from the lists"
   ]
  },
  {
   "cell_type": "code",
   "execution_count": 3,
   "id": "60655700",
   "metadata": {},
   "outputs": [
    {
     "name": "stdout",
     "output_type": "stream",
     "text": [
      "[1, 2, 3, 5, 6]\n"
     ]
    }
   ],
   "source": [
    "list1.remove(4)\n",
    "print(list1)"
   ]
  },
  {
   "cell_type": "markdown",
   "id": "b0975930",
   "metadata": {},
   "source": [
    "## Modifying an element in the list"
   ]
  },
  {
   "cell_type": "code",
   "execution_count": 4,
   "id": "52f9d514",
   "metadata": {},
   "outputs": [
    {
     "name": "stdout",
     "output_type": "stream",
     "text": [
      "[1, 2, 9, 5, 6]\n"
     ]
    }
   ],
   "source": [
    "list1[2]=9\n",
    "print(list1)"
   ]
  },
  {
   "cell_type": "markdown",
   "id": "a6f711e6",
   "metadata": {},
   "source": [
    "## creating a dictionary"
   ]
  },
  {
   "cell_type": "code",
   "execution_count": 5,
   "id": "0abd449b",
   "metadata": {},
   "outputs": [
    {
     "name": "stdout",
     "output_type": "stream",
     "text": [
      "{'a': 1, 'b': 2, 'c': 3}\n"
     ]
    }
   ],
   "source": [
    "dict={'a':1,'b':2,'c':3}\n",
    "print(dict)"
   ]
  },
  {
   "cell_type": "markdown",
   "id": "70fddbd9",
   "metadata": {},
   "source": [
    "## Adding elements to the dictionary"
   ]
  },
  {
   "cell_type": "code",
   "execution_count": 6,
   "id": "a5b3b37e",
   "metadata": {},
   "outputs": [
    {
     "name": "stdout",
     "output_type": "stream",
     "text": [
      "{'a': 1, 'b': 2, 'c': 3, 'd': 4}\n"
     ]
    }
   ],
   "source": [
    "dict['d']= 4\n",
    "print(dict)"
   ]
  },
  {
   "cell_type": "markdown",
   "id": "938b7fc7",
   "metadata": {},
   "source": [
    "## Removing elements from the dictionary"
   ]
  },
  {
   "cell_type": "code",
   "execution_count": 9,
   "id": "15292048",
   "metadata": {},
   "outputs": [
    {
     "name": "stdout",
     "output_type": "stream",
     "text": [
      "{'b': 2, 'c': 3, 'd': 4}\n"
     ]
    }
   ],
   "source": [
    "del dict['a']\n",
    "print(dict)"
   ]
  },
  {
   "cell_type": "markdown",
   "id": "8c0514ea",
   "metadata": {},
   "source": [
    "## modifying a value in the dictionary"
   ]
  },
  {
   "cell_type": "code",
   "execution_count": 10,
   "id": "eef3b9de",
   "metadata": {},
   "outputs": [
    {
     "name": "stdout",
     "output_type": "stream",
     "text": [
      "{'b': 2, 'c': 9, 'd': 4}\n"
     ]
    }
   ],
   "source": [
    "dict['c']=9\n",
    "print(dict)"
   ]
  },
  {
   "cell_type": "markdown",
   "id": "bfc3c0de",
   "metadata": {},
   "source": [
    "## creating a set"
   ]
  },
  {
   "cell_type": "code",
   "execution_count": 11,
   "id": "00ea2306",
   "metadata": {},
   "outputs": [
    {
     "name": "stdout",
     "output_type": "stream",
     "text": [
      "{1, 2, 3, 4, 5}\n"
     ]
    }
   ],
   "source": [
    "set={1,2,3,4,5}\n",
    "print(set)"
   ]
  },
  {
   "cell_type": "markdown",
   "id": "d1e72a0d",
   "metadata": {},
   "source": [
    "## Adding elements to the set"
   ]
  },
  {
   "cell_type": "code",
   "execution_count": 13,
   "id": "dd5ff6e0",
   "metadata": {},
   "outputs": [
    {
     "name": "stdout",
     "output_type": "stream",
     "text": [
      "{1, 2, 3, 4, 5, 6}\n"
     ]
    }
   ],
   "source": [
    "set.add(6)\n",
    "print(set)"
   ]
  },
  {
   "cell_type": "markdown",
   "id": "7e70df4d",
   "metadata": {},
   "source": [
    "## Removing elements from the set"
   ]
  },
  {
   "cell_type": "code",
   "execution_count": 14,
   "id": "a4ef38cf",
   "metadata": {},
   "outputs": [
    {
     "name": "stdout",
     "output_type": "stream",
     "text": [
      "{1, 2, 3, 4, 6}\n"
     ]
    }
   ],
   "source": [
    "set.remove(5)\n",
    "print(set)"
   ]
  },
  {
   "cell_type": "code",
   "execution_count": null,
   "id": "93651738",
   "metadata": {},
   "outputs": [],
   "source": []
  }
 ],
 "metadata": {
  "kernelspec": {
   "display_name": "Python 3 (ipykernel)",
   "language": "python",
   "name": "python3"
  },
  "language_info": {
   "codemirror_mode": {
    "name": "ipython",
    "version": 3
   },
   "file_extension": ".py",
   "mimetype": "text/x-python",
   "name": "python",
   "nbconvert_exporter": "python",
   "pygments_lexer": "ipython3",
   "version": "3.10.11"
  }
 },
 "nbformat": 4,
 "nbformat_minor": 5
}
